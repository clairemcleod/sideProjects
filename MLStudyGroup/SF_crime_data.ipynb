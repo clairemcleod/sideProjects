{
 "cells": [
  {
   "cell_type": "markdown",
   "metadata": {},
   "source": [
    "# Initialization"
   ]
  },
  {
   "cell_type": "code",
   "execution_count": 71,
   "metadata": {
    "collapsed": true
   },
   "outputs": [],
   "source": [
    "import csv\n",
    "import numpy as np\n",
    "import pandas as pd\n",
    "import zipfile\n",
    "from sklearn.neighbors import KNeighborsClassifier\n",
    "from sklearn import preprocessing"
   ]
  },
  {
   "cell_type": "markdown",
   "metadata": {},
   "source": [
    "See what files are inside the zip from Kaggle:"
   ]
  },
  {
   "cell_type": "code",
   "execution_count": 3,
   "metadata": {
    "collapsed": false
   },
   "outputs": [
    {
     "name": "stdout",
     "output_type": "stream",
     "text": [
      "['train.csv']\n"
     ]
    }
   ],
   "source": [
    "z = zipfile.ZipFile('train.csv.zip')\n",
    "print(z.namelist())"
   ]
  },
  {
   "cell_type": "markdown",
   "metadata": {},
   "source": [
    "# Data Pre-processing"
   ]
  },
  {
   "cell_type": "markdown",
   "metadata": {},
   "source": [
    "Read the training data into a pandas data frame; parse the timestamp into year/week/time of day (hour)"
   ]
  },
  {
   "cell_type": "code",
   "execution_count": null,
   "metadata": {
    "collapsed": false
   },
   "outputs": [],
   "source": [
    "kaggle_train = pd.read_csv(z.open('train.csv'), parse_dates=['Dates'])\n",
    "\n",
    "kaggle_train['Year'] = kaggle_train['Dates'].map(lambda x: x.year)\n",
    "kaggle_train['Week'] = kaggle_train['Dates'].map(lambda x: x.week)\n",
    "kaggle_train['Hour'] = kaggle_train['Dates'].map(lambda x: x.hour)"
   ]
  },
  {
   "cell_type": "code",
   "execution_count": null,
   "metadata": {
    "collapsed": true
   },
   "outputs": [],
   "source": [
    "print kaggle_train.info()"
   ]
  },
  {
   "cell_type": "markdown",
   "metadata": {},
   "source": [
    "For now, I'm going to ignore Descript, Resolution, and Address. Descript and Resolution aren't available for the Kaggle test set, and address will be somewhat complicated to use. Remove these features from the kaggle_train data frame:"
   ]
  },
  {
   "cell_type": "code",
   "execution_count": 32,
   "metadata": {
    "collapsed": false
   },
   "outputs": [
    {
     "ename": "ValueError",
     "evalue": "labels ['Descript' 'Resolution' 'Address' 'Dates'] not contained in axis",
     "output_type": "error",
     "traceback": [
      "\u001b[0;31m---------------------------------------------------------------------------\u001b[0m",
      "\u001b[0;31mValueError\u001b[0m                                Traceback (most recent call last)",
      "\u001b[0;32m<ipython-input-32-d453706ea768>\u001b[0m in \u001b[0;36m<module>\u001b[0;34m()\u001b[0m\n\u001b[1;32m      1\u001b[0m \u001b[0mraw_kaggle_train\u001b[0m \u001b[0;34m=\u001b[0m \u001b[0mkaggle_train\u001b[0m\u001b[0;34m\u001b[0m\u001b[0m\n\u001b[1;32m      2\u001b[0m \u001b[0;34m\u001b[0m\u001b[0m\n\u001b[0;32m----> 3\u001b[0;31m \u001b[0mkaggle_train\u001b[0m \u001b[0;34m=\u001b[0m \u001b[0mkaggle_train\u001b[0m\u001b[0;34m.\u001b[0m\u001b[0mdrop\u001b[0m\u001b[0;34m(\u001b[0m\u001b[0;34m[\u001b[0m\u001b[0;34m'Descript'\u001b[0m\u001b[0;34m,\u001b[0m \u001b[0;34m'Resolution'\u001b[0m\u001b[0;34m,\u001b[0m \u001b[0;34m'Address'\u001b[0m\u001b[0;34m,\u001b[0m \u001b[0;34m'Dates'\u001b[0m\u001b[0;34m]\u001b[0m\u001b[0;34m,\u001b[0m \u001b[0maxis\u001b[0m\u001b[0;34m=\u001b[0m\u001b[0;36m1\u001b[0m\u001b[0;34m)\u001b[0m\u001b[0;34m\u001b[0m\u001b[0m\n\u001b[0m",
      "\u001b[0;32m/Users/clmcleod/anaconda/lib/python2.7/site-packages/pandas/core/generic.pyc\u001b[0m in \u001b[0;36mdrop\u001b[0;34m(self, labels, axis, level, inplace, errors)\u001b[0m\n\u001b[1;32m   1595\u001b[0m                 \u001b[0mnew_axis\u001b[0m \u001b[0;34m=\u001b[0m \u001b[0maxis\u001b[0m\u001b[0;34m.\u001b[0m\u001b[0mdrop\u001b[0m\u001b[0;34m(\u001b[0m\u001b[0mlabels\u001b[0m\u001b[0;34m,\u001b[0m \u001b[0mlevel\u001b[0m\u001b[0;34m=\u001b[0m\u001b[0mlevel\u001b[0m\u001b[0;34m,\u001b[0m \u001b[0merrors\u001b[0m\u001b[0;34m=\u001b[0m\u001b[0merrors\u001b[0m\u001b[0;34m)\u001b[0m\u001b[0;34m\u001b[0m\u001b[0m\n\u001b[1;32m   1596\u001b[0m             \u001b[0;32melse\u001b[0m\u001b[0;34m:\u001b[0m\u001b[0;34m\u001b[0m\u001b[0m\n\u001b[0;32m-> 1597\u001b[0;31m                 \u001b[0mnew_axis\u001b[0m \u001b[0;34m=\u001b[0m \u001b[0maxis\u001b[0m\u001b[0;34m.\u001b[0m\u001b[0mdrop\u001b[0m\u001b[0;34m(\u001b[0m\u001b[0mlabels\u001b[0m\u001b[0;34m,\u001b[0m \u001b[0merrors\u001b[0m\u001b[0;34m=\u001b[0m\u001b[0merrors\u001b[0m\u001b[0;34m)\u001b[0m\u001b[0;34m\u001b[0m\u001b[0m\n\u001b[0m\u001b[1;32m   1598\u001b[0m             \u001b[0mdropped\u001b[0m \u001b[0;34m=\u001b[0m \u001b[0mself\u001b[0m\u001b[0;34m.\u001b[0m\u001b[0mreindex\u001b[0m\u001b[0;34m(\u001b[0m\u001b[0;34m**\u001b[0m\u001b[0;34m{\u001b[0m\u001b[0maxis_name\u001b[0m\u001b[0;34m:\u001b[0m \u001b[0mnew_axis\u001b[0m\u001b[0;34m}\u001b[0m\u001b[0;34m)\u001b[0m\u001b[0;34m\u001b[0m\u001b[0m\n\u001b[1;32m   1599\u001b[0m             \u001b[0;32mtry\u001b[0m\u001b[0;34m:\u001b[0m\u001b[0;34m\u001b[0m\u001b[0m\n",
      "\u001b[0;32m/Users/clmcleod/anaconda/lib/python2.7/site-packages/pandas/core/index.pyc\u001b[0m in \u001b[0;36mdrop\u001b[0;34m(self, labels, errors)\u001b[0m\n\u001b[1;32m   2568\u001b[0m         \u001b[0;32mif\u001b[0m \u001b[0mmask\u001b[0m\u001b[0;34m.\u001b[0m\u001b[0many\u001b[0m\u001b[0;34m(\u001b[0m\u001b[0;34m)\u001b[0m\u001b[0;34m:\u001b[0m\u001b[0;34m\u001b[0m\u001b[0m\n\u001b[1;32m   2569\u001b[0m             \u001b[0;32mif\u001b[0m \u001b[0merrors\u001b[0m \u001b[0;34m!=\u001b[0m \u001b[0;34m'ignore'\u001b[0m\u001b[0;34m:\u001b[0m\u001b[0;34m\u001b[0m\u001b[0m\n\u001b[0;32m-> 2570\u001b[0;31m                 \u001b[0;32mraise\u001b[0m \u001b[0mValueError\u001b[0m\u001b[0;34m(\u001b[0m\u001b[0;34m'labels %s not contained in axis'\u001b[0m \u001b[0;34m%\u001b[0m \u001b[0mlabels\u001b[0m\u001b[0;34m[\u001b[0m\u001b[0mmask\u001b[0m\u001b[0;34m]\u001b[0m\u001b[0;34m)\u001b[0m\u001b[0;34m\u001b[0m\u001b[0m\n\u001b[0m\u001b[1;32m   2571\u001b[0m             \u001b[0mindexer\u001b[0m \u001b[0;34m=\u001b[0m \u001b[0mindexer\u001b[0m\u001b[0;34m[\u001b[0m\u001b[0;34m~\u001b[0m\u001b[0mmask\u001b[0m\u001b[0;34m]\u001b[0m\u001b[0;34m\u001b[0m\u001b[0m\n\u001b[1;32m   2572\u001b[0m         \u001b[0;32mreturn\u001b[0m \u001b[0mself\u001b[0m\u001b[0;34m.\u001b[0m\u001b[0mdelete\u001b[0m\u001b[0;34m(\u001b[0m\u001b[0mindexer\u001b[0m\u001b[0;34m)\u001b[0m\u001b[0;34m\u001b[0m\u001b[0m\n",
      "\u001b[0;31mValueError\u001b[0m: labels ['Descript' 'Resolution' 'Address' 'Dates'] not contained in axis"
     ]
    }
   ],
   "source": [
    "raw_kaggle_train = kaggle_train\n",
    "\n",
    "kaggle_train = kaggle_train.drop(['Descript', 'Resolution', 'Address', 'Dates'], axis=1)"
   ]
  },
  {
   "cell_type": "markdown",
   "metadata": {},
   "source": [
    "Ultimately, we're going to be using scikit-learn to implement kNN. This requires that the weekday and police district be coded as dummy variables."
   ]
  },
  {
   "cell_type": "code",
   "execution_count": 38,
   "metadata": {
    "collapsed": false
   },
   "outputs": [
    {
     "name": "stdout",
     "output_type": "stream",
     "text": [
      "         Category           X          Y  Year  Week  Hour  BAYVIEW  CENTRAL  \\\n",
      "0        WARRANTS -122.425892  37.774599  2015    20    23        0        0   \n",
      "1  OTHER OFFENSES -122.425892  37.774599  2015    20    23        0        0   \n",
      "2  OTHER OFFENSES -122.424363  37.800414  2015    20    23        0        0   \n",
      "3   LARCENY/THEFT -122.426995  37.800873  2015    20    23        0        0   \n",
      "4   LARCENY/THEFT -122.438738  37.771541  2015    20    23        0        0   \n",
      "\n",
      "   INGLESIDE  MISSION    ...      SOUTHERN  TARAVAL  TENDERLOIN  Friday  \\\n",
      "0          0        0    ...             0        0           0       0   \n",
      "1          0        0    ...             0        0           0       0   \n",
      "2          0        0    ...             0        0           0       0   \n",
      "3          0        0    ...             0        0           0       0   \n",
      "4          0        0    ...             0        0           0       0   \n",
      "\n",
      "   Monday  Saturday  Sunday  Thursday  Tuesday  Wednesday  \n",
      "0       0         0       0         0        0          1  \n",
      "1       0         0       0         0        0          1  \n",
      "2       0         0       0         0        0          1  \n",
      "3       0         0       0         0        0          1  \n",
      "4       0         0       0         0        0          1  \n",
      "\n",
      "[5 rows x 23 columns]\n"
     ]
    }
   ],
   "source": [
    "DistrictDummies = pd.get_dummies(kaggle_train['PdDistrict'])\n",
    "WeekdayDummies = pd.get_dummies(kaggle_train['DayOfWeek'])\n",
    "\n",
    "data=pd.concat([kaggle_train, DistrictDummies, WeekdayDummies], axis=1)\n",
    "data=data.drop(['DayOfWeek', 'PdDistrict'], axis=1)\n",
    "print data.head()"
   ]
  },
  {
   "cell_type": "code",
   "execution_count": null,
   "metadata": {
    "collapsed": true
   },
   "outputs": [],
   "source": []
  },
  {
   "cell_type": "code",
   "execution_count": null,
   "metadata": {
    "collapsed": true
   },
   "outputs": [],
   "source": []
  },
  {
   "cell_type": "markdown",
   "metadata": {},
   "source": [
    "Split kaggle data into training and test sets"
   ]
  },
  {
   "cell_type": "code",
   "execution_count": 42,
   "metadata": {
    "collapsed": false
   },
   "outputs": [
    {
     "name": "stdout",
     "output_type": "stream",
     "text": [
      "          Category           X          Y  Year  Week  Hour  BAYVIEW  CENTRAL  \\\n",
      "2   OTHER OFFENSES -122.424363  37.800414  2015    20    23        0        0   \n",
      "4    LARCENY/THEFT -122.438738  37.771541  2015    20    23        0        0   \n",
      "5    LARCENY/THEFT -122.403252  37.713431  2015    20    23        0        0   \n",
      "6    VEHICLE THEFT -122.423327  37.725138  2015    20    23        0        0   \n",
      "12       VANDALISM -122.412414  37.783004  2015    20    22        0        0   \n",
      "\n",
      "    INGLESIDE  MISSION    ...      SOUTHERN  TARAVAL  TENDERLOIN  Friday  \\\n",
      "2           0        0    ...             0        0           0       0   \n",
      "4           0        0    ...             0        0           0       0   \n",
      "5           1        0    ...             0        0           0       0   \n",
      "6           1        0    ...             0        0           0       0   \n",
      "12          0        0    ...             0        0           1       0   \n",
      "\n",
      "    Monday  Saturday  Sunday  Thursday  Tuesday  Wednesday  \n",
      "2        0         0       0         0        0          1  \n",
      "4        0         0       0         0        0          1  \n",
      "5        0         0       0         0        0          1  \n",
      "6        0         0       0         0        0          1  \n",
      "12       0         0       0         0        0          1  \n",
      "\n",
      "[5 rows x 23 columns]\n"
     ]
    }
   ],
   "source": [
    "np.random.seed(seed=1)\n",
    "test_idx = np.random.uniform(0, 1, len(data)) <= 0.3\n",
    "train = data[test_idx==True]\n",
    "test = data[test_idx==False]\n",
    "\n",
    "print train.head()"
   ]
  },
  {
   "cell_type": "code",
   "execution_count": null,
   "metadata": {
    "collapsed": false
   },
   "outputs": [],
   "source": []
  },
  {
   "cell_type": "markdown",
   "metadata": {},
   "source": [
    "# k-NN"
   ]
  },
  {
   "cell_type": "code",
   "execution_count": 51,
   "metadata": {
    "collapsed": true
   },
   "outputs": [],
   "source": [
    "import math\n",
    "\n",
    "def llfun(act, pred):\n",
    "    \"\"\" Logloss function for 1/0 probability\n",
    "    \"\"\"\n",
    "    return (-(~(act == pred)).astype(int) * math.log(1e-15)).sum() / len(act)\n"
   ]
  },
  {
   "cell_type": "code",
   "execution_count": 77,
   "metadata": {
    "collapsed": false
   },
   "outputs": [
    {
     "name": "stdout",
     "output_type": "stream",
     "text": [
      "['X', 'Y', 'Year', 'Week', 'Hour', 'Monday', 'Tuesday', 'Wednesday', 'Thursday', 'Friday', 'Saturday', 'Sunday', 'BAYVIEW', 'CENTRAL', 'INGLESIDE', 'MISSION', 'NORTHERN', 'PARK', 'RICHMOND', 'SOUTHERN', 'TARAVAL', 'TENDERLOIN']\n"
     ]
    }
   ],
   "source": [
    "basic_features = ['X', 'Y', 'Year', 'Week', 'Hour']\n",
    "dayOfWeek_features = ['Monday', 'Tuesday', 'Wednesday', 'Thursday', 'Friday', 'Saturday', 'Sunday']\n",
    "district_features = ['BAYVIEW', 'CENTRAL', 'INGLESIDE', 'MISSION', 'NORTHERN', 'PARK','RICHMOND','SOUTHERN', 'TARAVAL', 'TENDERLOIN']\n",
    "\n",
    "features= basic_features + dayOfWeek_features + district_features\n",
    "\n",
    "print features"
   ]
  },
  {
   "cell_type": "code",
   "execution_count": 78,
   "metadata": {
    "collapsed": false
   },
   "outputs": [],
   "source": [
    "train_X = train[features]\n",
    "\n",
    "scaler = preprocessing.StandardScaler().fit(train_X)\n",
    "\n",
    "normalized_train_X = scaler.transform(train_X)\n",
    "train_y = train['Category'].astype('category')\n",
    "\n",
    "test_X = test[features]\n",
    "normalized_test_X=scaler.transform(test_X)\n",
    "test_actual = test['Category'].astype('category')"
   ]
  },
  {
   "cell_type": "code",
   "execution_count": null,
   "metadata": {
    "collapsed": false
   },
   "outputs": [],
   "source": [
    "\n",
    "# Fit\n",
    "logloss = []\n",
    "for i in range(40,41):\n",
    "    knn = KNeighborsClassifier(n_neighbors=i)\n",
    "    knn.fit(normalized_train_X, train_y)\n",
    "    \n",
    "    # Predict on test set\n",
    "    outcome = knn.predict(normalized_test_X)\n",
    "    \n",
    "    # Logloss\n",
    "    logloss.append(llfun(test_actual, outcome))\n",
    "\n",
    "print logloss"
   ]
  },
  {
   "cell_type": "code",
   "execution_count": null,
   "metadata": {
    "collapsed": true
   },
   "outputs": [],
   "source": []
  }
 ],
 "metadata": {
  "kernelspec": {
   "display_name": "Python 2",
   "language": "python",
   "name": "python2"
  },
  "language_info": {
   "codemirror_mode": {
    "name": "ipython",
    "version": 2
   },
   "file_extension": ".py",
   "mimetype": "text/x-python",
   "name": "python",
   "nbconvert_exporter": "python",
   "pygments_lexer": "ipython2",
   "version": "2.7.10"
  }
 },
 "nbformat": 4,
 "nbformat_minor": 0
}
